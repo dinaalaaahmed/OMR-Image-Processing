{
 "cells": [
  {
   "cell_type": "code",
   "execution_count": 3,
   "metadata": {},
   "outputs": [],
   "source": [
    "from commonfunctions import *\n",
    "import numpy as np\n",
    "import skimage.io as io\n",
    "import matplotlib.pyplot as plt\n",
    "from skimage.color import rgb2gray\n",
    "from skimage.morphology import binary_erosion, binary_dilation, binary_closing,skeletonize, thin\n",
    "from skimage.measure import find_contours\n",
    "from skimage.draw import rectangle\n",
    "import cv2\n",
    "from skimage.filters import threshold_otsu\n",
    "from skimage.transform import rotate\n",
    "# Show the figures / plots inside the notebook\n",
    "%matplotlib inline\n",
    "%load_ext autoreload\n",
    "%autoreload 2"
   ]
  },
  {
   "cell_type": "code",
   "execution_count": 19,
   "metadata": {},
   "outputs": [],
   "source": [
    "def Segment_Symbols(img):\n",
    "    # find contours for symbols\n",
    "    find_contour_img=find_contours(img,0.8)\n",
    "    final= np.zeros(img.shape)\n",
    "    # iterate on shapes\n",
    "    for box in find_contour_img:  \n",
    "        Xmin=min(box[:,1])\n",
    "        Xmax=max(box[:,1])\n",
    "        Ymin=min(box[:,0])\n",
    "        Ymax=max(box[:,0])\n",
    "        ratio=(Ymax-Ymin)/(Xmax-Xmin)\n",
    "        if ratio <28. and ratio> .1:\n",
    "            rr, cc = rectangle(start = (math.ceil(Ymin),math.ceil(Xmin)), end = (math.ceil(Ymax),math.ceil(Xmax)), shape=img.shape)\n",
    "            final[rr,cc]=1         \n",
    "    return final;       "
   ]
  },
  {
   "cell_type": "code",
   "execution_count": 1,
   "metadata": {},
   "outputs": [],
   "source": [
    "img=io.imread('segmentation.jpeg',True)\n",
    "segmented_img=Segment_Symbols(img)"
   ]
  },
  {
   "cell_type": "code",
   "execution_count": 2,
   "metadata": {},
   "outputs": [],
   "source": [
    "\n"
   ]
  },
  {
   "cell_type": "code",
   "execution_count": null,
   "metadata": {},
   "outputs": [],
   "source": []
  }
 ],
 "metadata": {
  "kernelspec": {
   "display_name": "Python 3",
   "language": "python",
   "name": "python3"
  },
  "language_info": {
   "codemirror_mode": {
    "name": "ipython",
    "version": 3
   },
   "file_extension": ".py",
   "mimetype": "text/x-python",
   "name": "python",
   "nbconvert_exporter": "python",
   "pygments_lexer": "ipython3",
   "version": "3.7.6-final"
  }
 },
 "nbformat": 4,
 "nbformat_minor": 4
}